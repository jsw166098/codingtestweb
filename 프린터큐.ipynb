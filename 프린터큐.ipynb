{
 "cells": [
  {
   "cell_type": "code",
   "execution_count": 1,
   "metadata": {},
   "outputs": [
    {
     "name": "stdout",
     "output_type": "stream",
     "text": [
      "3 \n",
      "1 0 \n",
      "5\n",
      "1\n",
      "4 2\n",
      "1 2 3 4\n",
      "2\n",
      "6 0\n",
      "1 1 9 1 1 1\n",
      "5\n"
     ]
    }
   ],
   "source": [
    "test_cases = int(input())\n",
    "\n",
    "for _ in range(test_cases):\n",
    "    n,m = list(map(int, input().split()))\n",
    "    priority = list(map(int, input().split()))\n",
    "    idx = list(range(len(priority)))\n",
    "    idx[m] = 'target'  ## target 삽입시켜 놓기 \n",
    "\n",
    "    # 순서\n",
    "    order = 0\n",
    "    i = 0\n",
    "\n",
    "    while order != n:\n",
    "        if priority[0]==max(priority):\n",
    "            order += 1\n",
    "\n",
    "            if idx[0]=='target':\n",
    "                print(order)\n",
    "                break\n",
    "            else:\n",
    "                priority.pop(0)\n",
    "                idx.pop(0)\n",
    "\n",
    "        else:\n",
    "            priority.append(priority.pop(0))\n",
    "            idx.append(idx.pop(0))\n",
    "\n"
   ]
  }
 ],
 "metadata": {
  "kernelspec": {
   "display_name": "Python 3",
   "language": "python",
   "name": "python3"
  },
  "language_info": {
   "codemirror_mode": {
    "name": "ipython",
    "version": 3
   },
   "file_extension": ".py",
   "mimetype": "text/x-python",
   "name": "python",
   "nbconvert_exporter": "python",
   "pygments_lexer": "ipython3",
   "version": "3.8.5"
  }
 },
 "nbformat": 4,
 "nbformat_minor": 4
}
