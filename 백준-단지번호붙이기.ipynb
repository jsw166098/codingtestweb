{
 "cells": [
  {
   "cell_type": "code",
   "execution_count": 6,
   "metadata": {},
   "outputs": [
    {
     "name": "stdout",
     "output_type": "stream",
     "text": [
      "7\n",
      "0110100\n"
     ]
    },
    {
     "ename": "TypeError",
     "evalue": "'list' object is not callable",
     "output_type": "error",
     "traceback": [
      "\u001b[0;31m---------------------------------------------------------------------------\u001b[0m",
      "\u001b[0;31mTypeError\u001b[0m                                 Traceback (most recent call last)",
      "\u001b[0;32m<ipython-input-6-b87624ba7023>\u001b[0m in \u001b[0;36m<module>\u001b[0;34m\u001b[0m\n\u001b[1;32m      7\u001b[0m \u001b[0;34m\u001b[0m\u001b[0m\n\u001b[1;32m      8\u001b[0m \u001b[0;32mfor\u001b[0m \u001b[0mi\u001b[0m \u001b[0;32min\u001b[0m \u001b[0mrange\u001b[0m\u001b[0;34m(\u001b[0m\u001b[0mn\u001b[0m\u001b[0;34m)\u001b[0m\u001b[0;34m:\u001b[0m\u001b[0;34m\u001b[0m\u001b[0;34m\u001b[0m\u001b[0m\n\u001b[0;32m----> 9\u001b[0;31m     \u001b[0mgraph\u001b[0m\u001b[0;34m.\u001b[0m\u001b[0mappend\u001b[0m\u001b[0;34m(\u001b[0m\u001b[0mlist\u001b[0m\u001b[0;34m(\u001b[0m\u001b[0mmap\u001b[0m\u001b[0;34m(\u001b[0m\u001b[0mint\u001b[0m\u001b[0;34m,\u001b[0m \u001b[0minput\u001b[0m\u001b[0;34m(\u001b[0m\u001b[0;34m)\u001b[0m\u001b[0;34m)\u001b[0m\u001b[0;34m)\u001b[0m\u001b[0;34m)\u001b[0m\u001b[0;34m\u001b[0m\u001b[0;34m\u001b[0m\u001b[0m\n\u001b[0m\u001b[1;32m     10\u001b[0m \u001b[0;34m\u001b[0m\u001b[0m\n\u001b[1;32m     11\u001b[0m \u001b[0;31m# DFS로 특정한 노드를 방문한 뒤에 연결된 모든 노드들도 방문\u001b[0m\u001b[0;34m\u001b[0m\u001b[0;34m\u001b[0m\u001b[0;34m\u001b[0m\u001b[0m\n",
      "\u001b[0;31mTypeError\u001b[0m: 'list' object is not callable"
     ]
    }
   ],
   "source": [
    "# N, M을 공백을 기준으로 구분하여 입력 받기\n",
    "n = int(input())\n",
    "\n",
    "# 2차원 리스트의 맵 정보 입력 받기\n",
    "graph = []\n",
    "for i in range(n):\n",
    "    graph.append(list(map(int, input())))\n",
    "\n",
    "# DFS로 특정한 노드를 방문한 뒤에 연결된 모든 노드들도 방문\n",
    "def dfs(x, y):\n",
    "    # 주어진 범위를 벗어나는 경우에는 즉시 종료\n",
    "    if x <= -1 or x >= n or y <= -1 or y >= n:\n",
    "        return False\n",
    "    # 현재 노드를 아직 방문하지 않았다면\n",
    "    if graph[x][y] == 1:\n",
    "        # 해당 노드 방문 처리\n",
    "        graph[x][y] = 0\n",
    "        # 상, 하, 좌, 우의 위치들도 모두 재귀적으로 호출\n",
    "        dfs(x - 1, y)\n",
    "        dfs(x, y - 1)\n",
    "        dfs(x + 1, y)\n",
    "        dfs(x, y + 1)\n",
    "        return True\n",
    "    return False\n",
    "\n",
    "# 모든 노드(위치)에 대하여 음료수 채우기\n",
    "result = 0\n",
    "for i in range(n):\n",
    "    for j in range(n):\n",
    "        # 현재 위치에서 DFS 수행\n",
    "        if dfs(i, j) == True:\n",
    "            result += 1\n",
    "\n",
    "print(result) # 정답 출력"
   ]
  },
  {
   "cell_type": "code",
   "execution_count": 3,
   "metadata": {},
   "outputs": [
    {
     "data": {
      "text/plain": [
       "[[0, 0, 0, 0, 0, 0, 0],\n",
       " [0, 0, 0, 0, 0, 0, 0],\n",
       " [0, 0, 0, 0, 0, 0, 0],\n",
       " [0, 0, 0, 0, 0, 0, 0],\n",
       " [0, 0, 0, 0, 0, 0, 0],\n",
       " [0, 0, 0, 0, 0, 0, 0],\n",
       " [0, 0, 0, 0, 0, 0, 0]]"
      ]
     },
     "execution_count": 3,
     "metadata": {},
     "output_type": "execute_result"
    }
   ],
   "source": [
    "0110100\n",
    "0110101\n",
    "1110101\n",
    "0000111\n",
    "0100000\n",
    "0111110\n",
    "0111000"
   ]
  },
  {
   "cell_type": "code",
   "execution_count": null,
   "metadata": {},
   "outputs": [],
   "source": []
  }
 ],
 "metadata": {
  "kernelspec": {
   "display_name": "Python 3",
   "language": "python",
   "name": "python3"
  },
  "language_info": {
   "codemirror_mode": {
    "name": "ipython",
    "version": 3
   },
   "file_extension": ".py",
   "mimetype": "text/x-python",
   "name": "python",
   "nbconvert_exporter": "python",
   "pygments_lexer": "ipython3",
   "version": "3.8.5"
  }
 },
 "nbformat": 4,
 "nbformat_minor": 4
}
