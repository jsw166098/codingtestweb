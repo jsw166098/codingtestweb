{
 "cells": [
  {
   "cell_type": "markdown",
   "metadata": {},
   "source": [
    "# 제로"
   ]
  },
  {
   "cell_type": "code",
   "execution_count": null,
   "metadata": {},
   "outputs": [],
   "source": [
    "num = int(input())\n",
    "stack = []\n",
    "\n",
    "for _ in range(num):\n",
    "    num_u=int(input())\n",
    "    \n",
    "    if num_u == 0:\n",
    "        if stack is None:\n",
    "            print(\"stack is empty!\")\n",
    "            continue        \n",
    "        else:\n",
    "            stack.pop()\n",
    "\n",
    "    else:    \n",
    "        stack.append(num_u)\n",
    "        \n",
    "print(sum(stack))\n",
    "        "
   ]
  }
 ],
 "metadata": {
  "kernelspec": {
   "display_name": "Python 3",
   "language": "python",
   "name": "python3"
  },
  "language_info": {
   "codemirror_mode": {
    "name": "ipython",
    "version": 3
   },
   "file_extension": ".py",
   "mimetype": "text/x-python",
   "name": "python",
   "nbconvert_exporter": "python",
   "pygments_lexer": "ipython3",
   "version": "3.8.5"
  }
 },
 "nbformat": 4,
 "nbformat_minor": 4
}
