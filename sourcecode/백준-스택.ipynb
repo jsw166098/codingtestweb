{
 "cells": [
  {
   "cell_type": "markdown",
   "metadata": {},
   "source": [
    "# 스택"
   ]
  },
  {
   "cell_type": "markdown",
   "metadata": {},
   "source": [
    "## 시간 초과로 못 풀었음 \n",
    "* input 을 사용하면 시간 초과 발생\n",
    "* sys 의 sys.stdin.readline() 사용해야 함"
   ]
  },
  {
   "cell_type": "code",
   "execution_count": 2,
   "metadata": {},
   "outputs": [
    {
     "name": "stdout",
     "output_type": "stream",
     "text": [
      "7\n",
      "pop\n",
      "-1\n",
      "top\n",
      "-1\n",
      "push 123\n",
      "123\n",
      "top\n",
      "123\n",
      "pop\n",
      "123\n",
      "top\n",
      "-1\n",
      "pop\n",
      "-1\n"
     ]
    }
   ],
   "source": [
    "class stack:\n",
    "    def __init__(self):\n",
    "        self.len = 0\n",
    "        self.list = []\n",
    "\n",
    "    def push(self, value):\n",
    "        self.list.append(value)\n",
    "        self.len += 1\n",
    "        print(value)\n",
    "    \n",
    "    def pop(self):\n",
    "        if self.len == 0:\n",
    "            print(-1)\n",
    "        else:\n",
    "            print(self.list.pop())\n",
    "            self.len -= 1\n",
    "     \n",
    "    def size(self):\n",
    "        print(self.len)\n",
    "    \n",
    "    def empty(self):\n",
    "        if self.len == 0:\n",
    "            print(0)\n",
    "        else:\n",
    "            print(1)\n",
    "            \n",
    "    def top(self):\n",
    "        if self.len == 0:\n",
    "            print(-1)\n",
    "        else:\n",
    "            print(self.list[self.len-1])  \n",
    "        \n",
    "        \n",
    "num = int(input())\n",
    "stack = stack()    \n",
    "\n",
    "for i in range(num):\n",
    "    str = input()\n",
    "    str_change = str.split()\n",
    "    \n",
    "    if str_change[0] == 'push':\n",
    "        stack.push(int(str_change[1]))\n",
    "    elif str_change[0] == 'pop':\n",
    "        stack.pop()\n",
    "    elif str_change[0] == 'size':\n",
    "        stack.size()\n",
    "    elif str_change[0] == 'top':\n",
    "        stack.top()\n",
    "    else:\n",
    "        print(\"input error\")\n",
    "                "
   ]
  },
  {
   "cell_type": "markdown",
   "metadata": {},
   "source": [
    "## sys 사용"
   ]
  },
  {
   "cell_type": "code",
   "execution_count": 19,
   "metadata": {},
   "outputs": [
    {
     "ename": "TypeError",
     "evalue": "'map' object cannot be interpreted as an integer",
     "output_type": "error",
     "traceback": [
      "\u001b[0;31m---------------------------------------------------------------------------\u001b[0m",
      "\u001b[0;31mTypeError\u001b[0m                                 Traceback (most recent call last)",
      "\u001b[0;32m<ipython-input-19-8fef3441414d>\u001b[0m in \u001b[0;36m<module>\u001b[0;34m\u001b[0m\n\u001b[1;32m     35\u001b[0m \u001b[0mstack\u001b[0m \u001b[0;34m=\u001b[0m \u001b[0mstack\u001b[0m\u001b[0;34m(\u001b[0m\u001b[0;34m)\u001b[0m\u001b[0;34m\u001b[0m\u001b[0;34m\u001b[0m\u001b[0m\n\u001b[1;32m     36\u001b[0m \u001b[0;34m\u001b[0m\u001b[0m\n\u001b[0;32m---> 37\u001b[0;31m \u001b[0;32mfor\u001b[0m \u001b[0mi\u001b[0m \u001b[0;32min\u001b[0m \u001b[0mrange\u001b[0m\u001b[0;34m(\u001b[0m\u001b[0mnum\u001b[0m\u001b[0;34m)\u001b[0m\u001b[0;34m:\u001b[0m\u001b[0;34m\u001b[0m\u001b[0;34m\u001b[0m\u001b[0m\n\u001b[0m\u001b[1;32m     38\u001b[0m     \u001b[0mstr\u001b[0m \u001b[0;34m=\u001b[0m \u001b[0msys\u001b[0m\u001b[0;34m.\u001b[0m\u001b[0mstdin\u001b[0m\u001b[0;34m.\u001b[0m\u001b[0mreandline\u001b[0m\u001b[0;34m(\u001b[0m\u001b[0;34m)\u001b[0m\u001b[0;34m\u001b[0m\u001b[0;34m\u001b[0m\u001b[0m\n\u001b[1;32m     39\u001b[0m     \u001b[0mstr_change\u001b[0m \u001b[0;34m=\u001b[0m \u001b[0mstr\u001b[0m\u001b[0;34m.\u001b[0m\u001b[0msplit\u001b[0m\u001b[0;34m(\u001b[0m\u001b[0;34m)\u001b[0m\u001b[0;34m\u001b[0m\u001b[0;34m\u001b[0m\u001b[0m\n",
      "\u001b[0;31mTypeError\u001b[0m: 'map' object cannot be interpreted as an integer"
     ]
    }
   ],
   "source": [
    "class stack:\n",
    "    def __init__(self):\n",
    "        self.len = 0\n",
    "        self.list = []\n",
    "\n",
    "    def push(self, value):\n",
    "        self.list.append(value)\n",
    "        self.len += 1\n",
    "        print(value)\n",
    "    \n",
    "    def pop(self):\n",
    "        if self.len == 0:\n",
    "            print(-1)\n",
    "        else:\n",
    "            print(self.list.pop())\n",
    "            self.len -= 1\n",
    "     \n",
    "    def size(self):\n",
    "        print(self.len)\n",
    "    \n",
    "    def empty(self):\n",
    "        if self.len == 0:\n",
    "            print(0)\n",
    "        else:\n",
    "            print(1)\n",
    "            \n",
    "    def top(self):\n",
    "        if self.len == 0:\n",
    "            print(-1)\n",
    "        else:\n",
    "            print(self.list[self.len-1])  \n",
    "        \n",
    "import sys\n",
    "num = map(int,sys.stdin.readline())\n",
    "stack = stack()    \n",
    "\n",
    "for i in range(num):\n",
    "    str = sys.stdin.reandline()\n",
    "    str_change = str.split()\n",
    "    \n",
    "    if str_change[0] == 'push':\n",
    "        stack.push(int(str_change[1]))\n",
    "    elif str_change[0] == 'pop':\n",
    "        stack.pop()\n",
    "    elif str_change[0] == 'size':\n",
    "        stack.size()\n",
    "    elif str_change[0] == 'top':\n",
    "        stack.top()\n",
    "    else:\n",
    "        print(\"input error\")\n",
    "                "
   ]
  },
  {
   "cell_type": "code",
   "execution_count": 17,
   "metadata": {},
   "outputs": [],
   "source": [
    "import sys\n",
    "str = map(int,sys.stdin.readline())"
   ]
  },
  {
   "cell_type": "code",
   "execution_count": 18,
   "metadata": {},
   "outputs": [
    {
     "data": {
      "text/plain": [
       "<map at 0x7fb65d83a760>"
      ]
     },
     "execution_count": 18,
     "metadata": {},
     "output_type": "execute_result"
    }
   ],
   "source": [
    "str"
   ]
  },
  {
   "cell_type": "code",
   "execution_count": null,
   "metadata": {},
   "outputs": [],
   "source": []
  }
 ],
 "metadata": {
  "kernelspec": {
   "display_name": "Python 3",
   "language": "python",
   "name": "python3"
  },
  "language_info": {
   "codemirror_mode": {
    "name": "ipython",
    "version": 3
   },
   "file_extension": ".py",
   "mimetype": "text/x-python",
   "name": "python",
   "nbconvert_exporter": "python",
   "pygments_lexer": "ipython3",
   "version": "3.8.5"
  }
 },
 "nbformat": 4,
 "nbformat_minor": 4
}
